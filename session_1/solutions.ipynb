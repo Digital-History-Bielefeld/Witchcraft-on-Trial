{
 "cells": [
  {
   "cell_type": "markdown",
   "id": "a9311c0d",
   "metadata": {},
   "source": [
    "# Solutions\n",
    "\n",
    "## Session 1: Introduction to Python programming\n",
    "\n",
    "\n",
    "The basics of Python are not difficult to understand, but they should be practiced so that their use becomes second nature.\n",
    "If you get an error message, don't worry. This is normal and happens to everyone. The error message is there to help you understand what went wrong. So read it carefully and try to understand what it is telling you.\n",
    "\n",
    "The `print()` command can be used to output things. Try printing out the sentence \"History is cool\". To do this, simply enter your code in the free field below. You can then execute the code using the run symbol in the taskbar at the top. "
   ]
  },
  {
   "cell_type": "code",
   "execution_count": 2,
   "id": "d0a00bd0",
   "metadata": {},
   "outputs": [
    {
     "name": "stdout",
     "output_type": "stream",
     "text": [
      "History is cool\n"
     ]
    }
   ],
   "source": [
    "print(\"History is cool\")"
   ]
  },
  {
   "cell_type": "markdown",
   "id": "3cba84a6",
   "metadata": {},
   "source": [
    "You should now see the sentence executed. However, you usually work with variables. These store data in themselves and serve as small boxes for them. You can store data in the box and retrieve it later or simply overwrite the data. \n",
    "\n",
    "\n",
    "This is how you save a variable:"
   ]
  },
  {
   "cell_type": "code",
   "execution_count": 3,
   "id": "453b059d",
   "metadata": {},
   "outputs": [],
   "source": [
    "my_number = 5\n",
    "name = \"Sara\""
   ]
  },
  {
   "cell_type": "markdown",
   "id": "9c76e85a",
   "metadata": {},
   "source": [
    "Overwrite the above variables with new values. Print them!"
   ]
  },
  {
   "cell_type": "code",
   "execution_count": 4,
   "id": "1f7dcae4",
   "metadata": {},
   "outputs": [
    {
     "name": "stdout",
     "output_type": "stream",
     "text": [
      "7\n",
      "Taylor\n"
     ]
    }
   ],
   "source": [
    "my_number = 7\n",
    "name = \"Taylor\"\n",
    "print(my_number)\n",
    "print(name)"
   ]
  },
  {
   "cell_type": "markdown",
   "id": "6582c92f",
   "metadata": {},
   "source": [
    "Now that you know the absolute basics, let's get straight to the exercises!"
   ]
  },
  {
   "cell_type": "markdown",
   "id": "f3ade5ac",
   "metadata": {},
   "source": [
    "## Data Types\n",
    "\n",
    "Data Types are a category of a value, every value belongs to exactly one data type\n",
    "\n",
    "**Simple data types are:**\n",
    "- ints e.g. `1`\n",
    "- floats e.g. `1.3`\n",
    "- strings e.g. `'This is a string'`\n",
    "- boolean e.g. `True` or `False`\n",
    "\n",
    " ### Operators Cheat Sheet\n",
    "\n",
    "| Operator | Operation                         | Example   | Result |\n",
    "| -------- | --------------------------------- | --------- | ------ |\n",
    "| +        | Addition                          | `2 + 2`   | `4`    |\n",
    "| -        | Substraction                      | `5 - 2`   | `3`    |\n",
    "| *        | Multiplication                    | `5 * 2`   | `10`   |\n",
    "| /        | Division                          | `14 / 4`  | `3.5`  |\n",
    "| //       | Integer division/floored quotient | `14 // 4` | `3`    |\n",
    "| %        | Modulus                           | `25 % 7`  | `4`    |\n",
    "| **       | Exponent                          | `2 ** 4`  | `16`   |\n",
    "\n",
    "You have the following python code. What will be the output? Try to think about it before you run the code."
   ]
  },
  {
   "cell_type": "code",
   "execution_count": 5,
   "id": "ccb4445d",
   "metadata": {},
   "outputs": [
    {
     "name": "stdout",
     "output_type": "stream",
     "text": [
      "pizza\n",
      "food\n"
     ]
    }
   ],
   "source": [
    "food = \"pizza\"\n",
    "print(food)\n",
    "print(\"food\")"
   ]
  },
  {
   "cell_type": "markdown",
   "id": "0a12e446",
   "metadata": {},
   "source": [
    "What is the difference between `food` and `\"food\"`? Type your answer in the free field below.\n",
    "\n",
    "## Lists\n",
    "\n",
    "Lists and tuples can contain multiple values, even multiple lists. You can store a list in a variable and use them like normal variables for the most part.\n",
    "\n",
    "Lists look like this:\n",
    "\n",
    "```python\n",
    "animals = [\"cat\", \"bat\", \"rat\", \"elephant\"]\n",
    "\n",
    "we_are_numbers = [1,3,4]\n",
    "```\n",
    "\n",
    "There are countless ways to work with lists. Let's work through some of them. \n",
    "\n",
    "a) You can access items of a list via its index like `your_list[i]`. Print the item with index `[1]` of the list numbers"
   ]
  },
  {
   "cell_type": "code",
   "execution_count": 1,
   "id": "4fe3e4ad",
   "metadata": {},
   "outputs": [
    {
     "name": "stdout",
     "output_type": "stream",
     "text": [
      "4\n"
     ]
    }
   ],
   "source": [
    "numbers = [1,4,7]\n",
    "number = numbers[1]\n",
    "print(number)"
   ]
  },
  {
   "cell_type": "markdown",
   "id": "07789743",
   "metadata": {},
   "source": [
    "b) Remember that you start counting at 0. So the first item has the index 0. The second item has the index 1 and so on. Which index does the item \"rat\" have, if \"cat\" has index 0? Print rat with its index."
   ]
  },
  {
   "cell_type": "code",
   "execution_count": 2,
   "id": "47fb1641",
   "metadata": {},
   "outputs": [
    {
     "name": "stdout",
     "output_type": "stream",
     "text": [
      "rat\n"
     ]
    }
   ],
   "source": [
    "animals = [\"cat\", \"bat\", \"rat\", \"elephant\"]\n",
    "print(animals[2]) # Which index is \"rat\"? Print it here via its index"
   ]
  },
  {
   "cell_type": "markdown",
   "id": "76f31dc5",
   "metadata": {},
   "source": [
    "c) You can work with single items of a list as you would with a normal variable. Print the sentence below with an animal of your choice using the list `animals` and its index. "
   ]
  },
  {
   "cell_type": "code",
   "execution_count": 3,
   "id": "dfa31407",
   "metadata": {},
   "outputs": [
    {
     "name": "stdout",
     "output_type": "stream",
     "text": [
      "I like the elephant\n"
     ]
    }
   ],
   "source": [
    "animals = [\"cat\", \"bat\", \"rat\", \"elephant\"]\n",
    "print(\"I like the \" + animals[3]) # Add the animal of your choice here"
   ]
  },
  {
   "cell_type": "markdown",
   "id": "0ebfe4d2",
   "metadata": {},
   "source": [
    "d) If you want to change a single value of a list, you can overwrite it with your_list[index] = \"new value\". Overwrite \"elephant\" (index 3) with \"cow\"."
   ]
  },
  {
   "cell_type": "code",
   "execution_count": 4,
   "id": "732cdd5b",
   "metadata": {},
   "outputs": [
    {
     "name": "stdout",
     "output_type": "stream",
     "text": [
      "['cat', 'bat', 'rat', 'cow']\n"
     ]
    }
   ],
   "source": [
    "animals = [\"cat\", \"bat\", \"rat\", \"elephant\"]\n",
    "animals[3] = \"cow\"\n",
    "print(animals)"
   ]
  },
  {
   "cell_type": "markdown",
   "id": "56b8c08b",
   "metadata": {},
   "source": [
    "e) If you want to append an item to the end of the list, you can use .append(), like this:\n",
    "```python\t\n",
    "fruits = [\"apple\", \"banana\", \"cherry\"]\n",
    "fruits.append(\"orange\")\n",
    "```\n",
    "Append \"dog\" to animals."
   ]
  },
  {
   "cell_type": "code",
   "execution_count": 5,
   "id": "1ab9dfc8",
   "metadata": {},
   "outputs": [
    {
     "name": "stdout",
     "output_type": "stream",
     "text": [
      "['cat', 'bat', 'rat', 'elephant', 'dog']\n"
     ]
    }
   ],
   "source": [
    "animals = [\"cat\", \"bat\", \"rat\", \"elephant\"]\n",
    "animals.append(\"dog\")\n",
    "print(animals)"
   ]
  },
  {
   "cell_type": "markdown",
   "id": "9c2e70c1",
   "metadata": {},
   "source": [
    "f) You can remove items with the remove function: .remove(\"item\"). The first one which matches, will be removed. Use it like this:\n",
    "```python\n",
    "fruits = [\"apple\", \"banana\", \"cherry\"]\n",
    "fruits.remove(\"banana\")\n",
    "```\n",
    "Remove \"rat\" from animals."
   ]
  },
  {
   "cell_type": "code",
   "execution_count": 6,
   "id": "7f549545",
   "metadata": {},
   "outputs": [
    {
     "name": "stdout",
     "output_type": "stream",
     "text": [
      "['cat', 'bat', 'elephant']\n"
     ]
    }
   ],
   "source": [
    "animals = [\"cat\", \"bat\", \"rat\", \"elephant\"]\n",
    "animals.remove(\"rat\")\n",
    "print(animals)"
   ]
  }
 ],
 "metadata": {
  "kernelspec": {
   "display_name": ".venv",
   "language": "python",
   "name": "python3"
  },
  "language_info": {
   "codemirror_mode": {
    "name": "ipython",
    "version": 3
   },
   "file_extension": ".py",
   "mimetype": "text/x-python",
   "name": "python",
   "nbconvert_exporter": "python",
   "pygments_lexer": "ipython3",
   "version": "3.12.3"
  }
 },
 "nbformat": 4,
 "nbformat_minor": 5
}
