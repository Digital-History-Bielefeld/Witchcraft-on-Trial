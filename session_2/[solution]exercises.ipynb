{
 "cells": [
  {
   "cell_type": "markdown",
   "id": "789e21a4",
   "metadata": {},
   "source": [
    "# Exercises\n",
    "## Session 2: Working with Python Libraries and functions"
   ]
  },
  {
   "cell_type": "markdown",
   "id": "e1278a70-02f1-44c6-a018-fc6a8e8a39fa",
   "metadata": {},
   "source": [
    "## Flow Control"
   ]
  },
  {
   "cell_type": "markdown",
   "id": "eec2208c-b6db-4703-98c1-ed7beba7a76c",
   "metadata": {},
   "source": [
    "At many points you need a data type with just two value possibilites: this are called \"boolean values\" and can only store True or False. This kind of data is neccessary if you have a flow and need to make a dicision: Is it raining? Yes, then take an umbrella. No, then go outside and have fun.\n",
    "\n",
    " ### Comparison Operators Cheat Sheet\n",
    "\n",
    "| Operator | Operation                         |\n",
    "| -------- | --------------------------------- |\n",
    "| ==       | Equal to                          |\n",
    "| !=       | Not equal to                      | \n",
    "| <        | Less than                         | \n",
    "| >        | Greater than                      |\n",
    "| <=       | Less than or equal to             |\n",
    "| >=       | Greater than or equal to          |\n",
    "\n",
    "a) What do you think: Is `42 == 42` >`True`? Think about it and then print it out."
   ]
  },
  {
   "cell_type": "code",
   "execution_count": 1,
   "id": "dd94b164-8554-4751-b289-9c0cbb8dc3de",
   "metadata": {},
   "outputs": [
    {
     "name": "stdout",
     "output_type": "stream",
     "text": [
      "True\n"
     ]
    }
   ],
   "source": [
    "print(42 == 42)"
   ]
  },
  {
   "cell_type": "markdown",
   "id": "da1c3459-e84f-4b03-ade3-c48d81baca31",
   "metadata": {},
   "source": [
    "b) Is `2 != 3` equal to `True`? Think about it and then print it out."
   ]
  },
  {
   "cell_type": "code",
   "execution_count": 2,
   "id": "2b07c259-7c2a-4a57-9603-269e1c7647c9",
   "metadata": {},
   "outputs": [
    {
     "name": "stdout",
     "output_type": "stream",
     "text": [
      "True\n"
     ]
    }
   ],
   "source": [
    "print(2 != 3)"
   ]
  },
  {
   "cell_type": "markdown",
   "id": "10dafdec-aacd-42db-9ab8-1bf176af6946",
   "metadata": {},
   "source": [
    "c) Is `\"hello\" == \"Hello\"` equal to `True`?"
   ]
  },
  {
   "cell_type": "code",
   "execution_count": 3,
   "id": "43abf328-3baf-46ce-8ec4-56d7890e6225",
   "metadata": {},
   "outputs": [
    {
     "name": "stdout",
     "output_type": "stream",
     "text": [
      "False\n"
     ]
    }
   ],
   "source": [
    "print(\"hello\" == \"Hello\")"
   ]
  },
  {
   "cell_type": "markdown",
   "id": "2e0d9cbd-4aee-4180-9185-ea0c37ca65b5",
   "metadata": {},
   "source": [
    "Now let's use these pieces of code and create simple if-statements.\n",
    "\n",
    "Remember that the syntax looks like this:\n",
    "```python\n",
    "if expression operator expression:\n",
    "    do this\n",
    "elif expression operator expression:\n",
    "    do this\n",
    "else:\n",
    "    do this\n",
    "``` \n",
    "\n",
    "d) Create a variable workshop and assign the value \"Winter School\" to it. Then print \"Let's drink cocktails\" if the name is \"Summer School\" and else if the name is \"Winter School\" print \"Let's drink a tea.\". If you need help, look at the solution notebook."
   ]
  },
  {
   "cell_type": "code",
   "execution_count": 5,
   "id": "3b4cdf12-9aa9-4727-9bc4-5636551c2e56",
   "metadata": {},
   "outputs": [
    {
     "name": "stdout",
     "output_type": "stream",
     "text": [
      "Let's drink a tea!\n"
     ]
    }
   ],
   "source": [
    "# Your variable:\n",
    "workshop = \"Winter School\"\n",
    "\n",
    "if workshop == \"Summer School\":\n",
    "    print(\"Let's drink cocktails!\")\n",
    "elif workshop == \"Winter School\":\n",
    "    print(\"Let's drink a tea!\")"
   ]
  },
  {
   "cell_type": "markdown",
   "id": "ea650510-3539-4017-afcb-715c087a39e7",
   "metadata": {},
   "source": [
    "e) Change the value of the variable above to \"Summer School\" and see what happens if you run the code again.\n",
    "\n",
    "f) Now use the and-Operator and connect two variables. Create the variable year = 2024 under the name variable.\n",
    "Then print \"You are at the right place\" **if** the name **is** \"Winter School\" **and** the year **is** 2025. **Else** print \"Something went wrong\""
   ]
  },
  {
   "cell_type": "code",
   "execution_count": 6,
   "id": "16eb4983-18e4-4357-a7ab-fb9b7b7ee95e",
   "metadata": {},
   "outputs": [
    {
     "name": "stdout",
     "output_type": "stream",
     "text": [
      "You are at the right place\n"
     ]
    }
   ],
   "source": [
    "# Your variables:\n",
    "name = \"Winter School\"\n",
    "year = 2025\n",
    "\n",
    "# Your if-else statement:\n",
    "if name == \"Winter School\" and year == 2025:\n",
    "    print(\"You are at the right place\")\n",
    "else:\n",
    "    print(\"Something went wrong\")"
   ]
  },
  {
   "cell_type": "markdown",
   "id": "ecbe44f1-db08-485b-a4aa-9071429f3565",
   "metadata": {},
   "source": [
    "For loops are used to iterate over a sequence (like a list, tuple, dictionary, set, or string). To count in a certain range, use the built-in function range(). So: \n",
    "```python\n",
    "i = 0\n",
    "for i in range(5):\n",
    "    print(i)\n",
    "```\n",
    "This means: Start at 0 and then count up to 5. The output would be 0, 1, 2, 3, 4.\n",
    "\n",
    "You can add 2 more paramters to the range function. The syntax is like this: \n",
    "\n",
    "```python\t\n",
    "for i in range(start, stop, steps):\n",
    "    print(i)\n",
    "```\n",
    "\n",
    "Per default the start is 0 and the steps are 1. Only the stop parameter needs to be passed.\n",
    "\n",
    "g) Make a for loop, where you start at 3, end at 50 and make steps of 4. Print every `i`. (**Note**: The `i` can also be a `n` or `item` or whatever you want. It is just a placeholder for the current value of the loop.)"
   ]
  },
  {
   "cell_type": "code",
   "execution_count": null,
   "id": "4898c4fe-13aa-4a67-b8e2-fc5e7ea3e0de",
   "metadata": {},
   "outputs": [],
   "source": []
  },
  {
   "cell_type": "markdown",
   "id": "ae4689ff-825e-45d1-8367-cb1deaecba39",
   "metadata": {},
   "source": [
    "## Strings\n",
    "\n",
    "Working with text and strings is particularly important for historians. Python offers numerous methods to make life easier with strings. Let's start right away to familiarize ourselves with working with strings!\n",
    "\n",
    "a) You know that we write strings in Python with single and double quotes.\n",
    "If you want to write a multiline string, you use three single quotes before and after the string: '''. \n",
    "Try to write a multiline string, store it into \"multiline\". "
   ]
  },
  {
   "cell_type": "code",
   "execution_count": null,
   "id": "d27d10a3",
   "metadata": {},
   "outputs": [],
   "source": [
    "# Your multi-line string:\n",
    "multiline = # Your value here"
   ]
  },
  {
   "cell_type": "markdown",
   "id": "28cb3d6d",
   "metadata": {},
   "source": [
    "Similar to a list (a string is a special type of list), you can also slice strings and index individual letters.\n",
    "\n",
    "b) Store the string \"Hello there\" in the variable below. Get the character at the index `[4]`. Look at the lists topic, task a), to get a hint."
   ]
  },
  {
   "cell_type": "code",
   "execution_count": null,
   "id": "b12da133",
   "metadata": {},
   "outputs": [],
   "source": [
    "greeting = \"Hello there\"\n",
    "print(greeting) # Add the index"
   ]
  },
  {
   "cell_type": "markdown",
   "id": "243b3742",
   "metadata": {},
   "source": [
    "d) Get the characters \"lo the\" **sliced** out the string. Look at the lists topic, task f), to get a hint. Remember: You start counting at 0, and the end index is not included."
   ]
  },
  {
   "cell_type": "code",
   "execution_count": null,
   "id": "fe914407",
   "metadata": {},
   "outputs": [],
   "source": [
    "greeting = \"Hello there\""
   ]
  },
  {
   "cell_type": "markdown",
   "id": "e433e021",
   "metadata": {},
   "source": [
    "e) If you want to check whether a letter or a sequence of letters is present in a string, you can use the operators `in` and `not in`. So: `\"test\" in \"test string\"`.\n",
    "Does \"the\" occur in our string? Try it with both keywords."
   ]
  },
  {
   "cell_type": "code",
   "execution_count": null,
   "id": "10ba6408",
   "metadata": {},
   "outputs": [],
   "source": []
  },
  {
   "cell_type": "markdown",
   "id": "4d3b1bd3",
   "metadata": {},
   "source": [
    "f) There are various ways to join strings together. \n",
    "- Create two variables \"name\" and \"job\" and store any values in them. We want to print a sentence with both variables, like \"My name is Inga and I am a developer\".\n",
    "- **Method 1:** Use the `+` operator to concatenate and print the strings.\n",
    "Try it with your variables.\n",
    "- **Method 2:** With another method, the f-strings, you can write the variables directly into the string, which makes it the clearest and most beautiful method. \n",
    "It would look like this: `f \"This is my name: {name}\"` You can also modify the variable directly in the curly brackets, for example: `f \"I am {age +1} years old\"`. \n",
    "```python\n",
    "name = \"Inga\"\n",
    "print(f\"This is my name: {name}\")\n",
    "```\n",
    "Try the previous example again."
   ]
  },
  {
   "cell_type": "code",
   "execution_count": null,
   "id": "f2827ab4",
   "metadata": {},
   "outputs": [],
   "source": [
    "# Your variables:\n",
    "name = # Your value here\n",
    "job = # Your value here\n",
    "\n",
    "# Method 1:\n",
    "\n",
    "# Method 2:\n"
   ]
  },
  {
   "cell_type": "markdown",
   "id": "cd156da1-7725-48f8-80da-2ed1638f4a20",
   "metadata": {},
   "source": [
    "### Useful Methods for Strings\n",
    "\n",
    "These are a few basics you should know when working with strings in Python. In addition, as with lists, there are numerous built-in functions that offer you many options for working with strings. Let's take a closer look at them!\n",
    "\n",
    "a) I have this string and I'd like to have it in lowercase for now. I can do this with the method `.lower()`.\n",
    "```python\n",
    "my_string = \"I AM A BIG FAN OF PYTHON\"\n",
    "my_string = my_string.lower()\n",
    "```\n",
    "Print the string in lowercase. Then play around with `.upper()` and `.title()`. What do these methods do?"
   ]
  },
  {
   "cell_type": "code",
   "execution_count": null,
   "id": "0be3daea",
   "metadata": {},
   "outputs": [],
   "source": [
    "greeting = \"HELLO THERE\"\n",
    "greeting = # Your method here\n",
    "print(greeting)"
   ]
  },
  {
   "cell_type": "markdown",
   "id": "1a36b058",
   "metadata": {},
   "source": [
    "b) If you have a list and you need to print it as a string, you can use the .join function. For this you start with a separator, with which you seperate each string of the list.\n",
    "This can be a whitespace `\" \"` or a comma `,`. As an argument you pass your list, like this:\n",
    "```python\n",
    "sentence = [\"I\", \"learn\", \"Python\"]\n",
    "print(\" \".join(sentence))\n",
    "# Output: I learn Python\n",
    "```\n",
    "Try it with a list \"animals\" with the items \"cat\", \"bat\", \"rat\". Put them together with a comma + one whitespace separator."
   ]
  },
  {
   "cell_type": "code",
   "execution_count": null,
   "id": "a3e9705c",
   "metadata": {},
   "outputs": [],
   "source": [
    "animals = [\"cat\", \"bat\", \"rat\"]"
   ]
  },
  {
   "cell_type": "markdown",
   "id": "afec865d",
   "metadata": {},
   "source": [
    "c) You can also do the whole thing in reverse and split a string into a list with a specific separator. \n",
    "For this you use the .split() method. The syntax is like this:\n",
    "```python\n",
    "sentence = \"I learn Python\"\n",
    "print(sentence.split())\n",
    "# Output: [\"I\", \"learn\", \"Python\"]\n",
    "```\n",
    "Try it with the string below and split it with a comma + one whitespace separator."
   ]
  },
  {
   "cell_type": "code",
   "execution_count": null,
   "id": "a2430db3",
   "metadata": {},
   "outputs": [],
   "source": [
    "string = \"cat, bat, rat\""
   ]
  },
  {
   "cell_type": "markdown",
   "id": "3fa1e557",
   "metadata": {},
   "source": [
    "d) Sometimes there are a lot of spaces in texts that don't belong there. These can be removed in Python using a simple method. \n",
    "We use the `strip()` methods for this: `my_string.strip()` or `my_string.lstrip()` or `my_string.rstrip()` for removing spaces to the left or right of the first letter. \n",
    "Try all three methods!"
   ]
  },
  {
   "cell_type": "code",
   "execution_count": null,
   "id": "7fb29437",
   "metadata": {},
   "outputs": [],
   "source": [
    "white_space = \"    lots of white space    \"\n",
    "# Strip white spaces on both sides\n",
    "\n",
    "# Strip white spaces on the left\n",
    "\n",
    "# Strip white spaces on the right"
   ]
  },
  {
   "cell_type": "markdown",
   "id": "68307db5",
   "metadata": {},
   "source": [
    "## The `open()`-Function in Python\n",
    "\n",
    "[The open() function in Python](https://docs.python.org/3/library/functions.html#open) is a built-in function used to open and manipulate files. It provides a flexible way to interact with files, allowing you to perform various operations such as reading, writing, and appending. Let's try it out!\n",
    "\n",
    "The general syntax of the open() function is as follows (most of this you won't need):\n",
    "\n",
    "```python\n",
    "open(file, mode='r', buffering=-1, encoding=None, errors=None, newline=None, closefd=True, opener=None)\n",
    "```\n",
    "\n",
    "- file: The name of the file or a path to the file.\n",
    "- mode: Specifies the mode in which the file is opened. It can be 'r' for reading, 'w' for writing, 'a' for appending, and more.\n",
    "- buffering: An optional integer that represents the buffer size. If omitted or set to -1, the system default is used.\n",
    "- encoding: Specifies the encoding of the file, such as 'utf-8' or 'ascii'. Default is None (system dependent).\n",
    "- errors: Specifies how encoding and decoding errors are to be handled.\n",
    "- newline: Controls how universal newlines mode works (None, '', '\\n', '\\r', and '\\r\\n').\n",
    "- closefd: If closefd is False, the underlying file descriptor will not be closed when the file is closed.\n",
    "- opener: A custom opener that can be used to open the file.\n",
    "\n",
    "Now, let's explore some examples of using the open() function:\n",
    "Example 1: Reading a File\n",
    "\n",
    "```python\n",
    "\n",
    "# Open a file in read mode\n",
    "with open('example.txt', 'r') as file:\n",
    "    content = file.read()\n",
    "    print(content)\n",
    "```\n",
    "\n",
    "Example 2: Writing to a File\n",
    "\n",
    "```python\n",
    "\n",
    "# Open a file in write mode and write some content\n",
    "with open('output.txt', 'w') as file:\n",
    "    file.write(\"This is a sample text written to the file.\")\n",
    "```\n",
    "\n",
    "Example 3: Appending to a File\n",
    "\n",
    "```python\n",
    "\n",
    "# Open a file in append mode and add more content\n",
    "with open('output.txt', 'a') as file:\n",
    "    file.write(\"\\nThis is an additional line appended to the file.\")\n",
    "```\n",
    "\n",
    "These examples show how to open files in different modes and perform basic operations, read more [here](https://docs.python.org/3/tutorial/inputoutput.html#reading-and-writing-files). As you progress through the exercises, you'll gain a deeper understanding of the open() function and its capabilities.\n",
    "\n",
    "a) Open the file named 'EAP.txt' in the current directory in read-only mode ('r').\n",
    "Print the content of the file."
   ]
  },
  {
   "cell_type": "code",
   "execution_count": null,
   "id": "98e0e081",
   "metadata": {},
   "outputs": [],
   "source": []
  },
  {
   "cell_type": "markdown",
   "id": "d33ae8e8",
   "metadata": {},
   "source": [
    "b) Open a new file named 'output.txt' in write mode ('w').\n",
    "Write a message of your choice to the file."
   ]
  },
  {
   "cell_type": "code",
   "execution_count": null,
   "id": "66e0161c",
   "metadata": {},
   "outputs": [],
   "source": []
  },
  {
   "cell_type": "markdown",
   "id": "ae940cf0",
   "metadata": {},
   "source": [
    "c) Open your new file in read-only mode and print the content of the file."
   ]
  },
  {
   "cell_type": "code",
   "execution_count": null,
   "id": "2bf64fc3",
   "metadata": {},
   "outputs": [],
   "source": []
  },
  {
   "cell_type": "markdown",
   "id": "ddef8c18",
   "metadata": {},
   "source": [
    "## Functions"
   ]
  },
  {
   "cell_type": "markdown",
   "id": "cb3f2e4f",
   "metadata": {},
   "source": [
    "Often you will want to reuse a piece of code multiple times. Functions are a way to do this. A function is a block of code that only runs when it is called. You can pass data, known as arguments or parameters, into a function. A function can return data as a result."
   ]
  },
  {
   "cell_type": "markdown",
   "id": "c7ea1646",
   "metadata": {},
   "source": [
    "a) You have this code:\n",
    "  \n",
    "```python\n",
    "name = 'apple'\n",
    "price = 10\n",
    "quantity = 5\n",
    "total = price * quantity\n",
    "\n",
    "print(f'The total price of {quantity} {name}s is {total}')\n",
    "```\n",
    "\n",
    "Now you want to calculate also the total price of 3 oranges (with a price of 7) and 7 bananas (with a price of 5).\n",
    "Write the code below (without using a function).\n"
   ]
  },
  {
   "cell_type": "code",
   "execution_count": null,
   "id": "cfe0e117",
   "metadata": {},
   "outputs": [],
   "source": []
  },
  {
   "cell_type": "markdown",
   "id": "a32f208b",
   "metadata": {},
   "source": [
    "b) You can see that the code is repetitive and annoying to write. For this reason, we can use functions. Think about, what are the parts of the code that change and what are the parts that stay the same. The part that changes is the name, price and quantity. The part that stays the same is the calculation of the total and the print statement. So let's learn how to create a function. \n",
    "\n",
    "A function in python looks like this:\n",
    "\n",
    "```python\n",
    "def my_function():\n",
    "  name = \"Alice\"\n",
    "  print(f\"Hello {name}\")\n",
    "```\n",
    "\n",
    "c) First, define a function which is called \"greeting\" that prints \"Hello, welcome to the Python course!\". It takes nothing as an argument (the parentheses are empty)."
   ]
  },
  {
   "cell_type": "code",
   "execution_count": null,
   "id": "6b4b7a72",
   "metadata": {},
   "outputs": [],
   "source": []
  },
  {
   "cell_type": "markdown",
   "id": "49834aa8",
   "metadata": {},
   "source": [
    "d) Now you don't want to print it but return it. The `return` statement in Python is used to send back a result from a function to the place where the function was called. It’s like a vending machine: you put in money, make a selection, and it *returns* your snack. In Python, if you create a function to add two numbers, you can use `return` to give back the result.\n",
    "\n",
    "Here’s a simple example:\n",
    "\n",
    "```python\n",
    "def add_numbers(a, b):\n",
    "    return a + b\n",
    "\n",
    "result = add_numbers(3, 5)  # result will be 8\n",
    "```\n",
    "\n",
    "Change the function so that it returns the string instead of printing it. After that, print the result of the function: `print(function_name())`."
   ]
  },
  {
   "cell_type": "code",
   "execution_count": null,
   "id": "e12095ff",
   "metadata": {},
   "outputs": [],
   "source": []
  },
  {
   "cell_type": "markdown",
   "id": "d3c8c33f",
   "metadata": {},
   "source": [
    "e) Now you want **to pass the name of a person as an argument to the function** and print \"Hello, welcome to the Python course, {name}!\". An argument is a placeholder that you can pass a value to when you call the function. The syntax is like this:\n",
    "\n",
    "```python\n",
    "def favorite_coffee(type_of_coffee):\n",
    "    print(f\"My favorite coffee is {type_of_coffee}\")\n",
    "\n",
    "favorite_coffee(\"latte\")  # My favorite coffee is latte\n",
    "```\n",
    "Change the function from exercise c) so that it takes a name as an argument and returns the string. After that, print the result of the function with the name \"Alice\"."
   ]
  },
  {
   "cell_type": "code",
   "execution_count": null,
   "id": "1165d86c",
   "metadata": {},
   "outputs": [],
   "source": []
  },
  {
   "cell_type": "markdown",
   "id": "77da303f",
   "metadata": {},
   "source": [
    "e) Now you want to pass the name of a person and the course name to the function and print \"Hello, welcome to the {course} course, {name}!\". \n",
    "\n",
    "```python\n",
    "def greeting(name, course):\n",
    "    return f\"Hello, welcome to the {course} course, {name}!\"\n",
    "```\n",
    "\n",
    "To pass two arguments, you need to separate them with a comma. Write this code in the cell below and print the result of the function with the name \"Alice\" and the course name \"Python\"."
   ]
  },
  {
   "cell_type": "code",
   "execution_count": null,
   "id": "4f4299c2",
   "metadata": {},
   "outputs": [],
   "source": []
  },
  {
   "cell_type": "markdown",
   "id": "6b1fabfe",
   "metadata": {},
   "source": [
    "f) Maybe you want to add some more content and logic to your function. So you want to pass the name and the course. But if the course equals \"Python\", it should say “Hello, welcome to the very fun {course} course, {name}!”. Otherwise, it should only output \"Hello, welcome to the {course} course, {name}!\".\n",
    "Remember the if-else statement from above:\n",
    "```python\n",
    "if course == \"Python\":\n",
    "    # do something\n",
    "else:\n",
    "    # do something else\n",
    "```\n",
    "\n",
    "Print the result of the function with the name \"Alice\" and the course name \"Python\" and with the name \"Bob\" and the course name \"Java\"."
   ]
  },
  {
   "cell_type": "code",
   "execution_count": null,
   "id": "d34dd3ac",
   "metadata": {},
   "outputs": [],
   "source": []
  },
  {
   "cell_type": "markdown",
   "id": "9c1a9c1e",
   "metadata": {},
   "source": [
    "g) You can also pass default values to a function. This is helpful if it's not necessary to pass all arguments or to make it optional. In Python, a default value for a function argument is a value that the function will use if no specific value is provided by the caller. It’s like ordering coffee: if you don’t specify, they might give it to you without milk by default. This makes functions more flexible.\n",
    "\n",
    "Here’s a simple example:\n",
    "\n",
    "```python\n",
    "def order_coffee(type_of_coffee=\"black coffee\"):\n",
    "    return f\"Here is your {type_of_coffee}.\"\n",
    "\n",
    "# Calling the function without specifying coffee type\n",
    "print(order_coffee())               # Outputs: Here is your black coffee.\n",
    "\n",
    "# Calling the function with a specific type of coffee\n",
    "print(order_coffee(\"cappuccino\"))        # Outputs: Here is your cappucino.\n",
    "``` \n",
    "\n",
    "Create a function called \"greeting\" that takes a name and a course as arguments. The course should have the default value \"Python\". The function should return \"Hello, welcome to the {course} course, {name}!\".\n",
    "Print the result of the function with the name \"Alice\" and the course name \"R\" and with the name \"Bob\" without specifying the course."
   ]
  },
  {
   "cell_type": "code",
   "execution_count": null,
   "id": "b52adc9b",
   "metadata": {},
   "outputs": [],
   "source": []
  },
  {
   "cell_type": "markdown",
   "id": "1ba30268",
   "metadata": {},
   "source": [
    "h) You can pass every type of data to a function. The principle is the same as with the other arguments. You can pass a list to a function like this:\n",
    "\n",
    "```python\n",
    "def favorite_coffees(coffees):\n",
    "    string = \"My favorite coffees are \"\n",
    "    for coffee in coffees:\n",
    "        string += \", \" + coffee\n",
    "\n",
    "favorite_coffees([\"latte\", \"cappuccino\", \"espresso\"])  # My favorite coffees are latte, cappuccino, espresso\n",
    "```\n",
    "We want to add a list of names to the function. The function should return \"Hello, welcome to the Python course, {name1}, {name2}, {name3}!\".\n",
    "For this define a function called \"greeting\" that takes a list of names as an argument. Iterate over the list and add every name to the string. Then return the string.\n",
    "Print the result of the function with the list [\"Alice\", \"Bob\", \"Charlie\"]."
   ]
  },
  {
   "cell_type": "code",
   "execution_count": null,
   "id": "1d456ece",
   "metadata": {},
   "outputs": [],
   "source": []
  },
  {
   "cell_type": "markdown",
   "id": "88d53893",
   "metadata": {},
   "source": [
    "i) Now we can simplify the code from the very beginning! Create a function that receives a name, a price and a quantity as arguments. The result of price * quantity should be calculated and printed in the sentence “The total price of {quantity} {name}s is {total}”.\n",
    "Then call the function with strawberries, price 15, quantity 4 and grapes, price 3, quantity 20."
   ]
  },
  {
   "cell_type": "code",
   "execution_count": null,
   "id": "39c3cb11",
   "metadata": {},
   "outputs": [],
   "source": []
  },
  {
   "cell_type": "markdown",
   "id": "d5ec335b",
   "metadata": {},
   "source": [
    "# Working with Libraries in the \"real world\"\n",
    "\n",
    "Now you have learned a lot about Python's functionality inside a Jupyter Notebook. But how can you use this knowledge in real life?\n",
    "Sometimes you want to use code that someone else has written. This is possible with libraries. A library is a collection of pre-written code that you can use to perform specific tasks or add functionality to your own code. Libraries are created by other developers and are often shared with the community to make it easier for others to accomplish common tasks without having to write everything from scratch. We want to practice using libraries with a simple example.\n",
    "Open the file `exercise_library.py` and try to solve the exercise there! If you are done, you can check the solution in `[solution]exercise_library.py`."
   ]
  }
 ],
 "metadata": {
  "kernelspec": {
   "display_name": ".venv",
   "language": "python",
   "name": "python3"
  },
  "language_info": {
   "codemirror_mode": {
    "name": "ipython",
    "version": 3
   },
   "file_extension": ".py",
   "mimetype": "text/x-python",
   "name": "python",
   "nbconvert_exporter": "python",
   "pygments_lexer": "ipython3",
   "version": "3.12.3"
  }
 },
 "nbformat": 4,
 "nbformat_minor": 5
}
